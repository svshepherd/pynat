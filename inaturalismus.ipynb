{
 "cells": [
  {
   "cell_type": "code",
   "execution_count": 1,
   "id": "fc95b9cd-5e58-4eee-9389-d2a12897e04f",
   "metadata": {
    "tags": []
   },
   "outputs": [],
   "source": [
    "## environment\n",
    "# conda create -n base2023geonat python numpy pandas scipy matplotlib jupyterlab nodejs plotly dill; conda install -c conda-forge pyinaturalist; conda install -c conda-forge 'pyrate-limiter<3' ## for now required pending fix\n",
    "\n",
    "## imports\n",
    "import requests\n",
    "import pandas as pd\n",
    "import datetime as dt\n",
    "from typing import Tuple, Union\n",
    "from time import sleep\n",
    "import matplotlib.pyplot as plt\n",
    "import matplotlib.image as mpimg\n",
    "from io import BytesIO\n",
    "import pyinaturalist as inat\n",
    "import dill\n",
    "import os\n",
    "\n",
    "pd.options.display.max_rows=250"
   ]
  },
  {
   "cell_type": "code",
   "execution_count": null,
   "id": "50bf8950-df8a-4ca5-9cc4-c7ca352683e5",
   "metadata": {},
   "outputs": [],
   "source": [
    "assert False, \"run once to set up your iNat access key\"\n",
    "\n",
    "## save API_KEY\n",
    "\n",
    "API_KEY = \"\"\n",
    "\n",
    "with open('pyinaturalistkey.pkd', 'wb') as f:\n",
    "    dill.dump(API_KEY, f)"
   ]
  },
  {
   "cell_type": "code",
   "execution_count": 2,
   "id": "fe7b9727-0008-47b4-af11-8f368a438eef",
   "metadata": {
    "tags": []
   },
   "outputs": [],
   "source": [
    "## load api key\n",
    "with open('pyinaturalistkey.pkd', 'rb') as f:\n",
    "    API_KEY = dill.load(f)"
   ]
  },
  {
   "cell_type": "raw",
   "id": "177bd064-1814-4e52-9112-9b4cb5b657eb",
   "metadata": {},
   "source": [
    "Easier goals:\n",
    "\n",
    "Goochland-Powhatan-Louisa: \n",
    "\twhat to see when, by clade:\n",
    "\t(...)\n",
    "    start with blooms, then insects, then mushrooms, then migrant birds\n",
    "    what invasives are increasing in relative frequency?\n",
    "\n",
    "Music-explorer like stats: what clades did I observe when, over time? How has my inatting changed? how \"bursty\" is it?\n",
    "\n",
    "Identifier stats: \n",
    "* search by region in which identifications were observed\n",
    "* Confidence Manimal - For username & clade, get number of IDs of each type: leading, confirming, maverick? track retracted-but-not-deleted IDs.\n",
    "* Confidence Manimal - confusion matrix, reliability of identifiers by clade, reliability-normalized community ID\n",
    "* music-explorer like stats for IDs, as well?\n",
    "\n",
    "Something that compares observation rate to ID rate over time (and by clade?)"
   ]
  },
  {
   "cell_type": "raw",
   "id": "c0fd2d26-1c5a-4657-856f-f9b631c9a456",
   "metadata": {},
   "source": [
    "Stretch goals:\n",
    "\n",
    "How do I make this compatible with Binder so other folks can use it?\n",
    "\tBinder notebooks\n",
    "    Add photos, prettify\n",
    "\n",
    "Map of how dynamic (and seasonal) land is, at the finest scale available.\n",
    "    [fancy] How do I make a video of a map changing?"
   ]
  },
  {
   "cell_type": "markdown",
   "id": "c5083e4f-dcf3-4440-a856-e0a93f832fc8",
   "metadata": {},
   "source": [
    "### learn about identifications by location of identified not location of identifier"
   ]
  },
  {
   "cell_type": "code",
   "execution_count": null,
   "id": "4da1d6a7-2511-457c-ab48-838749a894d3",
   "metadata": {
    "scrolled": true
   },
   "outputs": [],
   "source": [
    "PLACES = {1491:'Powhatan County',\n",
    "          2920:'Goochland County',\n",
    "          3032:'Louisa County'}\n",
    "local_ids = inat.v1.identifications.get_identifications(place_id=PLACES)"
   ]
  },
  {
   "cell_type": "code",
   "execution_count": null,
   "id": "5e2c000f-5b92-4c16-a79a-cf6c0033b378",
   "metadata": {},
   "outputs": [],
   "source": [
    "local_ids"
   ]
  },
  {
   "cell_type": "code",
   "execution_count": null,
   "id": "fbc6b3ab-d837-4231-9b11-66bf7ede6e92",
   "metadata": {},
   "outputs": [],
   "source": [
    "local_ids['results'][0].keys()"
   ]
  },
  {
   "cell_type": "markdown",
   "id": "1a3d6ec6-ea00-4c71-b886-7d065a9d6cb1",
   "metadata": {},
   "source": [
    "### check accuracy of identifications"
   ]
  },
  {
   "cell_type": "markdown",
   "id": "99d07af3-8265-46cf-9da8-435cabe62247",
   "metadata": {
    "tags": []
   },
   "source": [
    "# tri-county stats"
   ]
  },
  {
   "cell_type": "code",
   "execution_count": null,
   "id": "35d155b9-d55e-4464-9da5-5e046ada3305",
   "metadata": {
    "tags": []
   },
   "outputs": [],
   "source": [
    "PLACES = {1491:'Powhatan County',\n",
    "          2920:'Goochland County',\n",
    "          3032:'Louisa County'}\n",
    "\n",
    "total_observations = inat.get_observations(\n",
    "    place_id=PLACES.keys(),\n",
    "    verifiable=True,\n",
    "    per_page=0,\n",
    ")['total_results']\n",
    "print(f'Total observations: {total_observations}')\n",
    "\n",
    "total_taxa = inat.get_observation_species_counts(\n",
    "    place_id=PLACES.keys(),\n",
    "    verifiable=True,\n",
    "    per_page=0,\n",
    ")['total_results']\n",
    "print(f'Total taxa observed: {total_taxa}')\n",
    "\n",
    "total_identifiers = inat.get_observation_identifiers(place_id=PLACES.keys(), per_page=0)['total_results']\n",
    "print(f'Total identifiers: {total_identifiers}')\n",
    "\n",
    "total_observers = inat.get_observation_observers(place_id=PLACES.keys(), per_page=0)['total_results']\n",
    "print(f'Total observers: {total_observers}')"
   ]
  },
  {
   "cell_type": "code",
   "execution_count": null,
   "id": "71664ab2-c763-4052-8164-360a66b7197b",
   "metadata": {
    "tags": []
   },
   "outputs": [],
   "source": [
    "## helper functions from pyinaturalist example\n",
    "\n",
    "THROTTLING_DELAY = 1.0  # Time to wait in between subsequent requests\n",
    "TAXON_IMAGE_URL = 'https://raw.githubusercontent.com/inaturalist/inaturalist/main/app/assets/images/iconic_taxa/{taxon}-75px.png'\n",
    "iconic_taxa = list(inat.ICONIC_TAXA.values())\n",
    "iconic_taxa.remove('Unknown')\n",
    "\n",
    "# Run one search for each iconic taxon\n",
    "def get_iconic_taxa_counts(function):\n",
    "    iconic_taxa_counts = {}\n",
    "    for taxon_name in iconic_taxa:\n",
    "        total_taxon_observations = function(\n",
    "            place_id=PLACES.keys(),\n",
    "            iconic_taxa=taxon_name,\n",
    "            verifiable=True,\n",
    "            per_page=0,\n",
    "        )['total_results']\n",
    "\n",
    "        iconic_taxa_counts[taxon_name] = total_taxon_observations\n",
    "        print(f'Total results for {taxon_name}: {total_taxon_observations}')\n",
    "        if taxon_name != iconic_taxa[-1]:\n",
    "            sleep(THROTTLING_DELAY)\n",
    "    return iconic_taxa_counts\n",
    "\n",
    "def get_iconic_icon(taxon_name):\n",
    "    return TAXON_IMAGE_URL.format(taxon=taxon_name.lower())"
   ]
  },
  {
   "cell_type": "code",
   "execution_count": null,
   "id": "1780f8df-3db0-4ee7-8c21-2d0d438c0677",
   "metadata": {
    "tags": []
   },
   "outputs": [],
   "source": [
    "total_observations_by_iconic_taxon = get_iconic_taxa_counts(inat.get_observations)\n",
    "\n",
    "# Create a chart, sorted by number of observations, using the appropriate iNaturalist icons\n",
    "observations_df = pd.DataFrame(\n",
    "    [\n",
    "        {'iconic taxon': k, 'observations': v, 'img': get_iconic_icon(k)}\n",
    "        for k, v in total_observations_by_iconic_taxon.items()\n",
    "    ]\n",
    ")\n",
    "\n",
    "# ## display with altair\n",
    "# alt.Chart(\n",
    "#     observations_df,\n",
    "#     title=f'Verifiable observations in {PLACE_NAME} by iconic taxon',\n",
    "#     width=750,\n",
    "#     height=500,\n",
    "# ).mark_image().encode(x=alt.X('iconic taxon:N', sort='-y'), y='observations:Q', url='img')\n",
    "\n",
    "observations_df.sort_values('observations', ascending=False)"
   ]
  },
  {
   "cell_type": "code",
   "execution_count": null,
   "id": "50e206c3-d8af-40e8-ac6a-22ae08e024a4",
   "metadata": {
    "tags": []
   },
   "outputs": [],
   "source": [
    "observations_by_year = inat.get_observation_histogram(\n",
    "    place_id=PLACES.keys(),\n",
    "    interval='year',\n",
    "    d1='2008-01-01',\n",
    "    d2=dt.date.today(),\n",
    "    verifiable=True,\n",
    ")\n",
    "observations_by_year = pd.DataFrame(\n",
    "    [{'date': k, 'observations': v} for k, v in observations_by_year.items()]\n",
    ")\n",
    "observations_by_year.set_index('date').plot();"
   ]
  },
  {
   "cell_type": "code",
   "execution_count": null,
   "id": "da5aa7c9-361c-420e-a3c0-da6a364b8032",
   "metadata": {
    "tags": []
   },
   "outputs": [],
   "source": [
    "observations_by_month = inat.get_observation_histogram(\n",
    "    place_id=PLACES.keys(),\n",
    "    interval='month',\n",
    "    d1='2016-01-02',\n",
    "    d2=dt.date.today(),\n",
    "    verifiable=True,\n",
    ")\n",
    "observations_by_month = pd.DataFrame(\n",
    "    [{'metric': 'Observations', 'date': k, 'count': v} for k, v in observations_by_month.items()]\n",
    ")\n",
    "observations_by_month.set_index('date').plot();"
   ]
  },
  {
   "cell_type": "code",
   "execution_count": null,
   "id": "adc81e28-2e39-4d29-9bdb-27edf726c8bf",
   "metadata": {
    "tags": []
   },
   "outputs": [],
   "source": [
    "monthly_observations = observations_by_month.groupby(observations_by_month['date'].dt.month)['count'].sum().to_frame()\n",
    "monthly_observations['metric'] = 'Observations'\n",
    "monthly_observations['count'].plot()"
   ]
  },
  {
   "cell_type": "code",
   "execution_count": null,
   "id": "e7ee68c4-b8f6-47ff-96a4-573927c3f728",
   "metadata": {
    "tags": []
   },
   "outputs": [],
   "source": [
    "## helper functions from pyinaturalist example\n",
    "def count_date_range_results(function, start_date, end_date):\n",
    "    \"\"\"Get the count of results for the given date range and search function\"\"\"\n",
    "    # Running this search with per_page=0 will (quickly) return only a count of results, not complete results\n",
    "    response = function(\n",
    "        place_id=PLACES.keys(),\n",
    "        d1=start_date,\n",
    "        d2=end_date,\n",
    "        verifiable=True,\n",
    "        per_page=0,\n",
    "    )\n",
    "    print(f'Total results for {start_date.strftime(\"%b\")}: {response[\"total_results\"]}')\n",
    "    return response['total_results']\n",
    "\n",
    "\n",
    "def get_monthly_counts(function, label):\n",
    "    \"\"\"Get the count of results per month for the given search function\"\"\"\n",
    "    month_ranges = inat.get_interval_ranges(dt.datetime(2016, 1, 1), dt.datetime.today(), 'month')\n",
    "    counts_by_month = {\n",
    "        start_date: count_date_range_results(function, start_date, end_date)\n",
    "        for (start_date, end_date) in month_ranges\n",
    "    }\n",
    "    return pd.DataFrame(\n",
    "        [{'metric': label, 'date': k, 'count': v} for k, v in counts_by_month.items()]\n",
    "    )"
   ]
  },
  {
   "cell_type": "markdown",
   "id": "b99f7d3c-7921-4699-b776-da61ce83cdb2",
   "metadata": {
    "jp-MarkdownHeadingCollapsed": true,
    "tags": []
   },
   "source": [
    "### this part didn't quite work..."
   ]
  },
  {
   "cell_type": "code",
   "execution_count": null,
   "id": "22bb6fc8-4615-4d6e-9d43-4044428fb54d",
   "metadata": {
    "tags": []
   },
   "outputs": [],
   "source": [
    "taxa_by_month = get_monthly_counts(inat.get_observation_species_counts, 'Taxa')\n",
    "observers_by_month = get_monthly_counts(inat.get_observation_observers, 'Observers')\n",
    "identifiers_by_month = get_monthly_counts(inat.get_observation_identifiers, 'Identifiers')"
   ]
  },
  {
   "cell_type": "code",
   "execution_count": null,
   "id": "76fb50fb-9f93-4fb6-a870-de4f95d901df",
   "metadata": {
    "tags": []
   },
   "outputs": [],
   "source": [
    "# taxa_by_month\n",
    "combined_results = pd.concat([taxa_by_month, observations_by_month, observers_by_month, identifiers_by_month]).pivot(index='date', columns='metric', values='count')\n",
    "combined_results.plot()"
   ]
  },
  {
   "cell_type": "markdown",
   "id": "e04ae0f6-89a7-44a1-9078-b008447dfe1e",
   "metadata": {},
   "source": [
    "### back on track after simplifying the scope..."
   ]
  },
  {
   "cell_type": "code",
   "execution_count": null,
   "id": "58df8764-5681-4838-9ea6-45584cb10afb",
   "metadata": {
    "tags": []
   },
   "outputs": [],
   "source": [
    "observations = []     \n",
    "taxa = []\n",
    "observers = []\n",
    "identifiers = []\n",
    "\n",
    "for month in range(1,13):\n",
    "    observations.append(inat.get_observations(place_id=PLACES.keys(), month=month, verifiable=True, per_page=0)['total_results'])\n",
    "    taxa.append(inat.get_observation_species_counts(place_id=PLACES.keys(), month=month, verifiable=True, per_page=0)['total_results'])\n",
    "    observers.append(inat.get_observation_observers(place_id=PLACES.keys(), month=month, verifiable=True, per_page=0)['total_results'])\n",
    "    identifiers.append(inat.get_observation_identifiers(place_id=PLACES.keys(), month=month, verifiable=True, per_page=0)['total_results'])\n",
    "    \n",
    "counts = pd.DataFrame({'observations':observations, 'taxa':taxa, 'observers':observers, 'identifiers':identifiers})\n",
    "counts.plot()\n",
    "\n",
    "### maybe want to separately count observers vs species IDs? two ways of removing bias."
   ]
  },
  {
   "cell_type": "code",
   "execution_count": null,
   "id": "0f858f90-0e3c-4150-8853-6cd2e4a925dc",
   "metadata": {},
   "outputs": [],
   "source": [
    "## Question: What if I wanted to contrast observation rate versus identification rate? I'd want to index that on the time of identification not the time of observation. "
   ]
  },
  {
   "cell_type": "markdown",
   "id": "40dc7979-97bd-48be-8d62-38a6db3b47e0",
   "metadata": {
    "tags": []
   },
   "source": [
    "# convenience: my recent observations, formatted for photo names"
   ]
  },
  {
   "cell_type": "code",
   "execution_count": null,
   "id": "9cf08975-9a4c-422c-80f4-fd6074ed76b2",
   "metadata": {
    "tags": []
   },
   "outputs": [],
   "source": [
    "## option two: direct request and formatting\n",
    "\n",
    "def get_mine(api_key: str, uname:str, lookback_in_days: int) -> pd.DataFrame:\n",
    "    \"\"\"\n",
    "    Loads my observations by observation time (by iconic taxon?) in format appropriate for photo labels\n",
    "    \"\"\"\n",
    "    # Define the base URL for the iNaturalist API\n",
    "    base_url = \"https://api.inaturalist.org/v1/observations\"\n",
    "\n",
    "    # Define the current date\n",
    "    now = dt.datetime.now()\n",
    "    start_date = now - dt.timedelta(days=lookback_in_days)\n",
    "\n",
    "    response = inat.get_observations(user_id=[uname], d1=start_date, page='all')\n",
    "\n",
    "    return pd.json_normalize(response['results']) \n",
    "    #return inat.Observation.from_json_list(response) "
   ]
  },
  {
   "cell_type": "code",
   "execution_count": null,
   "id": "15ff153e-ecd6-4bf9-83c8-39c94f4fdf24",
   "metadata": {
    "scrolled": true,
    "tags": []
   },
   "outputs": [],
   "source": [
    "df = get_mine(API_KEY, 'schizoform', 5)\n",
    "\n",
    "for index, row in df.iterrows():\n",
    "    print(f\"\"\"\\n\\n{row['observed_on']:%Y%m%d} {row['taxon.name']} ({row['species_guess']}) [inat obs id: {row['id']}]\"\"\")\n",
    "    try:\n",
    "        response = requests.get(row.photos[0]['url'].replace('square','small'))\n",
    "        response.raise_for_status()  # Raise exception if the request failed\n",
    "        img = mpimg.imread(BytesIO(response.content), format='jpg')\n",
    "        plt.imshow(img)\n",
    "        plt.xticks([])  # Hide x tick labels\n",
    "        plt.yticks([])  # Hide y tick labels\n",
    "        plt.show()\n",
    "    except requests.exceptions.RequestException as e:\n",
    "        print(f\"Failed to load image: {e}\")"
   ]
  },
  {
   "cell_type": "markdown",
   "id": "6517d665-eeb4-4f67-a1da-69d9c99c50e7",
   "metadata": {
    "tags": []
   },
   "source": [
    "# bloomers\n",
    "The goal here is to see what plants will be blooming when in my local region. But along the way..."
   ]
  },
  {
   "cell_type": "markdown",
   "id": "4c62bb78-adde-42db-a5ed-5b920ec66e85",
   "metadata": {
    "tags": []
   },
   "source": [
    "### Coming soon!\n",
    "\n",
    "what plants might be blooming nest? seeding next? what mushrooms might I see? what (esp. migratory) birds? when are mammals active? "
   ]
  },
  {
   "cell_type": "code",
   "execution_count": null,
   "id": "2f1ff669-94c1-470e-877b-a14b6620ca0d",
   "metadata": {},
   "outputs": [],
   "source": [
    "PLACES = {1491:'Powhatan County',\n",
    "          2920:'Goochland County',\n",
    "          3032:'Louisa County'}\n",
    "\n",
    "total_observations = inat.get_observations(\n",
    "    place_id=PLACES.keys(),\n",
    "    month=set( [(dt.date.today()+dt.timedelta(days=-7)).month, (dt.date.today()+dt.timedelta(days=7)).month] ),\n",
    "    taxon_name='plants',\n",
    "    ## clade:plant 47126\n",
    "    #term_id=12, \n",
    "    #term_value_id=13, # flowering \n",
    "    #term_value_id=14, # fruiting\n",
    "    ## make sure I'm getting tags so I can do normalization\n",
    "    verifiable=True,\n",
    "    per_page=0,\n",
    ")['total_results']\n",
    "print(f'Total plant observations: {total_observations}')"
   ]
  },
  {
   "cell_type": "code",
   "execution_count": null,
   "id": "75458036-7ccd-4c56-9d30-11eac707926b",
   "metadata": {
    "scrolled": true
   },
   "outputs": [],
   "source": [
    "## flowering\n",
    "results = inat.get_observation_species_counts(\n",
    "    place_id=PLACES.keys(), ## might want to do larger/refined search e.g. VA or piedmont\n",
    "    month=set( [(dt.date.today()+dt.timedelta(days=-7)).month, (dt.date.today()+dt.timedelta(days=7)).month] ),\n",
    "    term_id=12, \n",
    "    term_value_id=13, # flowering \n",
    "    verifiable=True,\n",
    "    #per_page=0,\n",
    ")\n",
    "\n",
    "# Normalize results to DataFrame\n",
    "df_species_counts = pd.json_normalize(results['results'])\n",
    "\n",
    "# Display species names and their main images\n",
    "for index, row in df_species_counts.iterrows():\n",
    "    taxon_name = row['taxon.name']\n",
    "    common_name = row.get('taxon.preferred_common_name', 'N/A')\n",
    "    image_url = row['taxon.default_photo.medium_url']\n",
    "\n",
    "    print(f\"\\n{taxon_name} ({common_name})\")\n",
    "\n",
    "    try:\n",
    "        response = requests.get(image_url)\n",
    "        response.raise_for_status()  # Raise exception if the request failed\n",
    "        img = mpimg.imread(BytesIO(response.content), format='jpg')\n",
    "        plt.imshow(img)\n",
    "        plt.xticks([])  # Hide x tick labels\n",
    "        plt.yticks([])  # Hide y tick labels\n",
    "        plt.show()\n",
    "    except requests.exceptions.RequestException as e:\n",
    "        print(f\"Failed to load image: {e}\")\n",
    "\n",
    "### It'd be nice to specifically select \"flowering\" images!"
   ]
  },
  {
   "cell_type": "code",
   "execution_count": null,
   "id": "cd3a4077-f1ae-4bfe-b4c6-a5553743ed25",
   "metadata": {
    "scrolled": true,
    "tags": []
   },
   "outputs": [],
   "source": [
    "## fruiting\n",
    "results = inat.get_observation_species_counts(\n",
    "    place_id=PLACES.keys(), ## might want to do larger/refined search e.g. VA or piedmont\n",
    "    month=set( [(dt.date.today()+dt.timedelta(days=-7)).month, (dt.date.today()+dt.timedelta(days=7)).month] ), \n",
    "    term_id=12, \n",
    "    term_value_id=14, # fruiting\n",
    "    verifiable=True,\n",
    ")\n",
    "\n",
    "# Normalize results to DataFrame\n",
    "df_species_counts = pd.json_normalize(results['results'])\n",
    "\n",
    "# Display species names and their main images\n",
    "for index, row in df_species_counts.iterrows():\n",
    "    taxon_name = row['taxon.name']\n",
    "    common_name = row.get('taxon.preferred_common_name', 'N/A')\n",
    "    image_url = row['taxon.default_photo.medium_url']\n",
    "\n",
    "    print(f\"\\n{taxon_name} ({common_name})\")\n",
    "\n",
    "    try:\n",
    "        response = requests.get(image_url)\n",
    "        response.raise_for_status()  # Raise exception if the request failed\n",
    "        img = mpimg.imread(BytesIO(response.content), format='jpg')\n",
    "        plt.imshow(img)\n",
    "        plt.xticks([])  # Hide x tick labels\n",
    "        plt.yticks([])  # Hide y tick labels\n",
    "        plt.show()\n",
    "    except requests.exceptions.RequestException as e:\n",
    "        print(f\"Failed to load image: {e}\")\n",
    "\n",
    "### It'd be nice to specifically select \"fruiting\" images!"
   ]
  },
  {
   "cell_type": "code",
   "execution_count": null,
   "id": "c578240e-fe68-4cec-9c5e-62d050ec6622",
   "metadata": {
    "scrolled": true,
    "tags": []
   },
   "outputs": [],
   "source": [
    "## mushrooms\n",
    "results = inat.get_observation_species_counts(\n",
    "    place_id=PLACES.keys(), ## might want to do larger/refined search e.g. VA or piedmont\n",
    "    month=set( [(dt.date.today()+dt.timedelta(days=-7)).month, (dt.date.today()+dt.timedelta(days=7)).month] ), \n",
    "    taxon_id=47170, # mushrooms\n",
    "    verifiable=True,\n",
    ")\n",
    "\n",
    "# Normalize results to DataFrame\n",
    "df_species_counts = pd.json_normalize(results['results'])\n",
    "\n",
    "# Display species names and their main images\n",
    "for index, row in df_species_counts.iterrows():\n",
    "    taxon_name = row['taxon.name']\n",
    "    common_name = row.get('taxon.preferred_common_name', 'N/A')\n",
    "    image_url = row['taxon.default_photo.medium_url']\n",
    "\n",
    "    print(f\"\\n{taxon_name} ({common_name})\")\n",
    "\n",
    "    try:\n",
    "        response = requests.get(image_url)\n",
    "        response.raise_for_status()  # Raise exception if the request failed\n",
    "        img = mpimg.imread(BytesIO(response.content), format='jpg')\n",
    "        plt.imshow(img)\n",
    "        plt.xticks([])  # Hide x tick labels\n",
    "        plt.yticks([])  # Hide y tick labels\n",
    "        plt.show()\n",
    "    except requests.exceptions.RequestException as e:\n",
    "        print(f\"Failed to load image: {e}\")"
   ]
  },
  {
   "cell_type": "code",
   "execution_count": null,
   "id": "84659748-7c22-4cd0-8670-d5ad0f2c449a",
   "metadata": {
    "scrolled": true,
    "tags": []
   },
   "outputs": [],
   "source": [
    "## animals\n",
    "results = inat.get_observation_species_counts(\n",
    "    place_id=PLACES.keys(), ## might want to do larger/refined search e.g. VA or piedmont\n",
    "    month=set( [(dt.date.today()+dt.timedelta(days=-7)).month, (dt.date.today()+dt.timedelta(days=7)).month] ), \n",
    "    taxon_id=1, # animals\n",
    "    verifiable=True,\n",
    ")\n",
    "\n",
    "# Normalize results to DataFrame\n",
    "df_species_counts = pd.json_normalize(results['results'])\n",
    "\n",
    "# Display species names and their main images\n",
    "for index, row in df_species_counts.iterrows():\n",
    "    taxon_name = row['taxon.name']\n",
    "    common_name = row.get('taxon.preferred_common_name', 'N/A')\n",
    "    image_url = row['taxon.default_photo.medium_url']\n",
    "\n",
    "    print(f\"\\n{taxon_name} ({common_name})\")\n",
    "\n",
    "    try:\n",
    "        response = requests.get(image_url)\n",
    "        response.raise_for_status()  # Raise exception if the request failed\n",
    "        img = mpimg.imread(BytesIO(response.content), format='jpg')\n",
    "        plt.imshow(img)\n",
    "        plt.xticks([])  # Hide x tick labels\n",
    "        plt.yticks([])  # Hide y tick labels\n",
    "        plt.show()\n",
    "    except requests.exceptions.RequestException as e:\n",
    "        print(f\"Failed to load image: {e}\")"
   ]
  },
  {
   "cell_type": "markdown",
   "id": "9256fd4c-c455-402a-b335-e1992fc8d1d3",
   "metadata": {
    "jp-MarkdownHeadingCollapsed": true
   },
   "source": [
    "# OLD"
   ]
  },
  {
   "cell_type": "markdown",
   "id": "dc945a0c-fba1-4ed0-b122-43db56db18ac",
   "metadata": {
    "tags": []
   },
   "source": [
    "## general case using API: get species info in given location and time.\n",
    "\n",
    "I think I've got this basically working, and it's potentially cool: especially if I worked on the display interface. But I'm still not convinced it's accurate! I'm especially surprised I don't have the most local observations (around ME) in this time period. XRef with similar attempt via URL?\n",
    "\n",
    "This uses requests, which I think means it's NOT using pyinaturalist (the preferred API)"
   ]
  },
  {
   "cell_type": "code",
   "execution_count": null,
   "id": "de76d2a6-6a24-4a7c-8144-e413fd7e220d",
   "metadata": {
    "tags": []
   },
   "outputs": [],
   "source": [
    "assert False, \"try using the pyinaturalist interface instead\"\n",
    "\n",
    "def get_species_preview(api_key: str,\n",
    "                        location: Tuple[float, float], \n",
    "                        distance: Union[int, float]=25, \n",
    "                        day_range: Tuple[int,int]=(-7,14),\n",
    "                        max_years_lookback: int=20,\n",
    "                       ) -> pd.DataFrame:\n",
    "    \"\"\"\n",
    "    Fetches observations of flowering plants from the iNaturalist API within a specified distance \n",
    "    of a given location over the next two weeks for the past 10 years.\n",
    "\n",
    "    Args:\n",
    "        location (Tuple[float, float]): The latitude and longitude of the location of interest.\n",
    "        distance (Union[int, float]): The radius around the location of interest, in kilometers.\n",
    "        api_key (str): The iNaturalist API key.\n",
    "\n",
    "    Returns:\n",
    "        pd.DataFrame: A DataFrame containing the observations of flowering plants.\n",
    "\n",
    "    Note:\n",
    "        The taxon_id parameter is set to 47126, which is the ID for the kingdom Plantae. This will \n",
    "        return observations of all plants. If you're interested in a specific group of plants, \n",
    "        you'll need to find the appropriate taxon ID.\n",
    "\n",
    "        The term_id parameter is set to 12, which is the ID for \"flowering\". This will return \n",
    "        observations where the plant was reported to be flowering.\n",
    "    \"\"\"\n",
    "    # Define the base URL for the iNaturalist API\n",
    "    base_url = \"https://api.inaturalist.org/v1/observations\"\n",
    "\n",
    "    # Define the current date\n",
    "    current = dt.datetime.now()\n",
    "\n",
    "    # Initialize an empty DataFrame to store the results\n",
    "    df = []\n",
    "\n",
    "    # Fetch observations for the next two weeks for the past 50 years\n",
    "    for year in range(current.year - max_years_lookback, current.year):\n",
    "        # Define the start and end dates for the next two weeks of the current year\n",
    "        ref_date = dt.datetime(year, current.month, current.day)\n",
    "        start_date = ref_date + dt.timedelta(days=day_range[0])\n",
    "        end_date = ref_date + dt.timedelta(days=day_range[1])\n",
    "\n",
    "        # Define the parameters for the API request\n",
    "        params: Dict[str, Union[str, int, float]] = {\n",
    "            \"d1\": start_date.strftime(\"%Y-%m-%d\"),\n",
    "            \"d2\": end_date.strftime(\"%Y-%m-%d\"),\n",
    "            \"radius\": distance,\n",
    "            \"lat\": location[0],\n",
    "            \"lng\": location[1],\n",
    "            \"order\": \"desc\",\n",
    "            \"order_by\": \"observed_on\",\n",
    "            #\"term_id\": 13,  # Term ID for flowering\n",
    "        }\n",
    "\n",
    "        # Make the API request\n",
    "        response = requests.get(base_url, params=params, headers={\"Authorization\": \"Bearer \" + api_key})\n",
    "\n",
    "        # Convert the response to a pandas DataFrame and append it to the results DataFrame\n",
    "        df.append(pd.json_normalize(response.json()[\"results\"]))\n",
    "\n",
    "    return pd.concat(df, ignore_index=True)"
   ]
  },
  {
   "cell_type": "code",
   "execution_count": null,
   "id": "467c411e-319f-42e7-9436-082437a102f8",
   "metadata": {
    "tags": []
   },
   "outputs": [],
   "source": [
    "df = get_species_preview(api_key=apiKey, location=(37.670,-77.803), distance=25)\n",
    "df.shape"
   ]
  },
  {
   "cell_type": "code",
   "execution_count": null,
   "id": "224f63ae-cd96-4c27-87ce-eaba46f15ee8",
   "metadata": {
    "tags": []
   },
   "outputs": [],
   "source": [
    "pd.options.display.max_rows=250\n",
    "# df['annotations'].value_counts()\n",
    "df.groupby('taxon.iconic_taxon_name')['taxon.preferred_common_name'].value_counts()"
   ]
  },
  {
   "cell_type": "code",
   "execution_count": null,
   "id": "bc2dd25e-682a-4384-bff2-87d5790297a6",
   "metadata": {
    "tags": []
   },
   "outputs": [],
   "source": [
    "# taxon.preferred_common_name"
   ]
  },
  {
   "cell_type": "code",
   "execution_count": null,
   "id": "c5f0ef32-1d43-410b-87e0-299d5f0d0f40",
   "metadata": {
    "tags": []
   },
   "outputs": [],
   "source": []
  },
  {
   "cell_type": "code",
   "execution_count": null,
   "id": "3b9f5691-7ec1-4f49-97fa-487c9ae56625",
   "metadata": {
    "tags": []
   },
   "outputs": [],
   "source": [
    "#df.columns.to_list()\n",
    "df[['taxon.iconic_taxon_name',\n",
    "    'taxon.name', 'taxon.preferred_common_name',\n",
    "    #'location', 'public_positional_accuracy',\n",
    "    'observed_on',\n",
    "    'photos',\n",
    "    #'uri',\n",
    "    'user.id',\n",
    "]]"
   ]
  },
  {
   "cell_type": "code",
   "execution_count": null,
   "id": "38b6041f-cc8a-4397-9602-cd12542a2deb",
   "metadata": {
    "tags": []
   },
   "outputs": [],
   "source": [
    "df['uri'][0]"
   ]
  },
  {
   "cell_type": "code",
   "execution_count": null,
   "id": "47702ea3-ed70-4486-8d99-f98ddb7f4d7b",
   "metadata": {},
   "outputs": [],
   "source": [
    "## after verifying this works -- which has a ways to go!\n",
    "## todo: add means of display"
   ]
  },
  {
   "cell_type": "code",
   "execution_count": null,
   "id": "b3267394-64e2-4139-869d-e0b794fc9246",
   "metadata": {
    "tags": []
   },
   "outputs": [],
   "source": [
    "# df.columns.to_list()\n",
    "# df['observed_on'].value_counts()\n",
    "# df['taxon.name'].value_counts()\n",
    "df[ df['taxon.name']=='Asimina triloba' ]['id']\n",
    "# taxon.wikipedia_url"
   ]
  },
  {
   "cell_type": "code",
   "execution_count": null,
   "id": "aa64343f-813a-4e45-9d98-d3c540b7b688",
   "metadata": {
    "tags": []
   },
   "outputs": [],
   "source": [
    "import requests\n",
    "\n",
    "# Define the base URL for the iNaturalist API\n",
    "base_url = \"https://api.inaturalist.org/v1/observation_fields\"\n",
    "\n",
    "# Define the parameters for the API request\n",
    "params = {\n",
    "    \"q\": \"flowering\",\n",
    "}\n",
    "\n",
    "# Make the API request\n",
    "response = requests.get(base_url, params=params)\n",
    "\n",
    "# Print the results\n",
    "print(response.json())"
   ]
  },
  {
   "cell_type": "markdown",
   "id": "3613b4dc-fbd2-4add-a385-ddfa51b4f4ec",
   "metadata": {
    "tags": []
   },
   "source": [
    "## confidence_manimal\n",
    "\n",
    "general idea is to look at the rate at which I ID vs withdraw ID, slash the rate at which I nevermind-withdrawn ID vs the community taxon. how full of shit am I?"
   ]
  },
  {
   "cell_type": "code",
   "execution_count": null,
   "id": "f1944502-5866-4cb8-932c-98d272f7cec6",
   "metadata": {},
   "outputs": [],
   "source": [
    "## get a list of all the clades I provided an ID\n",
    "## idea: give it a user name and an ID -- what percent were subsequently confirmed accurate? confirmed inaccurate?"
   ]
  },
  {
   "cell_type": "code",
   "execution_count": null,
   "id": "b792db35-15ac-4191-9760-de3d159c8210",
   "metadata": {},
   "outputs": [],
   "source": [
    "## step one: get all a usr's observations (e.g. mine)\n",
    "\n",
    "\n",
    "def get_species_preview(api_key: str,\n",
    "                        user: Tuple[float, float], \n",
    "                       ) -> pd.DataFrame:\n",
    "    \"\"\"\n",
    "    Fetches observations of flowering plants from the iNaturalist API within a specified distance \n",
    "    of a given location over the next two weeks for the past 10 years.\n",
    "\n",
    "    Args:\n",
    "        location (Tuple[float, float]): The latitude and longitude of the location of interest.\n",
    "        distance (Union[int, float]): The radius around the location of interest, in kilometers.\n",
    "        api_key (str): The iNaturalist API key.\n",
    "\n",
    "    Returns:\n",
    "        pd.DataFrame: A DataFrame containing the observations of flowering plants.\n",
    "\n",
    "    Note:\n",
    "        The taxon_id parameter is set to 47126, which is the ID for the kingdom Plantae. This will \n",
    "        return observations of all plants. If you're interested in a specific group of plants, \n",
    "        you'll need to find the appropriate taxon ID.\n",
    "\n",
    "        The term_id parameter is set to 12, which is the ID for \"flowering\". This will return \n",
    "        observations where the plant was reported to be flowering.\n",
    "    \"\"\"\n",
    "    # Define the base URL for the iNaturalist API\n",
    "    base_url = \"https://api.inaturalist.org/v1/observations\"\n",
    "\n",
    "    # Fetch observations\n",
    "    \n",
    "    # Define the parameters for the API request\n",
    "    params: Dict[str, Union[str, int, float]] = {\n",
    "        \n",
    "        \"order\": \"desc\",\n",
    "        \"order_by\": \"observed_on\",\n",
    "        #\"term_id\": 13,  # Term ID for flowering\n",
    "    }\n",
    "\n",
    "    # Make the API request\n",
    "    response = requests.get(base_url, params=params, headers={\"Authorization\": \"Bearer \" + api_key})\n",
    "\n",
    "    # Convert the response to a pandas DataFrame and append it to the results DataFrame\n",
    "    df.append(pd.json_normalize(response.json()[\"results\"]))\n",
    "\n"
   ]
  }
 ],
 "metadata": {
  "kernelspec": {
   "display_name": "Python 3 (ipykernel)",
   "language": "python",
   "name": "python3"
  },
  "language_info": {
   "codemirror_mode": {
    "name": "ipython",
    "version": 3
   },
   "file_extension": ".py",
   "mimetype": "text/x-python",
   "name": "python",
   "nbconvert_exporter": "python",
   "pygments_lexer": "ipython3",
   "version": "3.11.5"
  }
 },
 "nbformat": 4,
 "nbformat_minor": 5
}
