{
 "cells": [
  {
   "cell_type": "code",
   "execution_count": 12,
   "id": "fc95b9cd-5e58-4eee-9389-d2a12897e04f",
   "metadata": {
    "tags": []
   },
   "outputs": [],
   "source": [
    "## environment\n",
    "# conda create -n base2023geonat python numpy pandas scipy matplotlib jupyterlab nodejs plotly dill; conda install -c conda-forge pyinaturalist; \n",
    "# pip install ipyplot\n",
    "# conda activate base2023geonat; conda update --all; conda install -c conda-forge 'pyrate-limiter<3' ## for now required pending fix\n",
    "\n",
    "## imports\n",
    "import pandas as pd\n",
    "import datetime as dt\n",
    "import ipyplot\n",
    "import pyinaturalist as inat\n",
    "import sys\n",
    "\n",
    "sys.path.insert(0, r\"C:\\Users\\drsvs\\Desktop\\code\")\n",
    "from pynat import helpers\n",
    "\n",
    "pd.options.display.max_rows=250"
   ]
  },
  {
   "cell_type": "code",
   "execution_count": 13,
   "id": "bb3e00cd-9045-4def-b897-217120d10014",
   "metadata": {},
   "outputs": [],
   "source": [
    "%load_ext autoreload\n",
    "%autoreload 2"
   ]
  },
  {
   "cell_type": "code",
   "execution_count": null,
   "id": "50bf8950-df8a-4ca5-9cc4-c7ca352683e5",
   "metadata": {},
   "outputs": [],
   "source": [
    "assert False, \"run once to set up your iNat access key\"\n",
    "\n",
    "## save API_KEY\n",
    "\n",
    "API_KEY = \"\"\n",
    "\n",
    "with open('pyinaturalistkey.pkd', 'wb') as f:\n",
    "    dill.dump(API_KEY, f)\n",
    "\n",
    "# ## load api key\n",
    "# with open('pyinaturalistkey.pkd', 'rb') as f:\n",
    "#     API_KEY = dill.load(f)\n",
    "\n",
    "# import logging\n",
    "# logging.basicConfig()\n",
    "# logging.getLogger('pyinaturalist').setLevel('INFO')"
   ]
  },
  {
   "cell_type": "raw",
   "id": "177bd064-1814-4e52-9112-9b4cb5b657eb",
   "metadata": {},
   "source": [
    "Easier goals:\n",
    "\n",
    "Goochland-Powhatan-Louisa: \n",
    "    tidy interface. \n",
    "    add lat/long/prox option as well as named places. \n",
    "    add flexibility to taxon / tag. \n",
    "    add limit to responses. \n",
    "    add rank order options - base, local relative (norm by all times), global relative (norm by all times/places). \n",
    "    thumbnails by default. \n",
    "    . what to see when, by clade:\n",
    "    . start with blooms, then insects, then mushrooms, then migrant birds\n",
    "    what invasives are increasing in relative frequency? (why? how normalize? what threats are increasing vs existing perceptions/attention?)\n",
    "\n",
    "Music-explorer like stats: what clades did I observe when, over time? How has my inatting changed? how \"bursty\" is it?\n",
    "\n",
    "Identifier stats: \n",
    "* search by region in which identifications were observed\n",
    "* Confidence Manimal - For username & clade, get number of IDs of each type: leading, confirming, maverick? track retracted-but-not-deleted IDs.\n",
    "* Confidence Manimal - confusion matrix, reliability of identifiers by clade, reliability-normalized community ID\n",
    "* music-explorer like stats for IDs, as well?\n",
    "\n",
    "Something that compares observation rate to ID rate over time (and by clade?)"
   ]
  },
  {
   "cell_type": "raw",
   "id": "c0fd2d26-1c5a-4657-856f-f9b631c9a456",
   "metadata": {},
   "source": [
    "Stretch goals:\n",
    "\n",
    "How do I make this compatible with Binder so other folks can use it?\n",
    "\tBinder notebooks\n",
    "    Add photos, prettify\n",
    "\n",
    "Map of how dynamic (and seasonal) land is, at the finest scale available.\n",
    "    [fancy] How do I make a video of a map changing?\n",
    "\n",
    "Project iNat onto Google Earth (i.e. globe not flatmap)"
   ]
  },
  {
   "cell_type": "markdown",
   "id": "c5083e4f-dcf3-4440-a856-e0a93f832fc8",
   "metadata": {},
   "source": [
    "### learn about identifications by location of identified not location of identifier"
   ]
  },
  {
   "cell_type": "code",
   "execution_count": null,
   "id": "4da1d6a7-2511-457c-ab48-838749a894d3",
   "metadata": {
    "scrolled": true
   },
   "outputs": [],
   "source": [
    "PLACES = {1491:'Powhatan County',\n",
    "          2920:'Goochland County',\n",
    "          3032:'Louisa County'}\n",
    "local_ids = inat.v1.identifications.get_identifications(place_id=list(PLACES.keys()))\n",
    "local_ids['results'][0].keys()"
   ]
  },
  {
   "cell_type": "markdown",
   "id": "1a3d6ec6-ea00-4c71-b886-7d065a9d6cb1",
   "metadata": {
    "jp-MarkdownHeadingCollapsed": true
   },
   "source": [
    "### check accuracy of identifications"
   ]
  },
  {
   "cell_type": "markdown",
   "id": "99d07af3-8265-46cf-9da8-435cabe62247",
   "metadata": {
    "jp-MarkdownHeadingCollapsed": true,
    "tags": []
   },
   "source": [
    "# tri-county stats"
   ]
  },
  {
   "cell_type": "code",
   "execution_count": null,
   "id": "35d155b9-d55e-4464-9da5-5e046ada3305",
   "metadata": {
    "tags": []
   },
   "outputs": [],
   "source": [
    "PLACES = {1491:'Powhatan County',\n",
    "          2920:'Goochland County',\n",
    "          3032:'Louisa County'}\n",
    "\n",
    "total_observations = inat.get_observations(\n",
    "    place_id=list(PLACES.keys()),\n",
    "    verifiable=True,\n",
    "    per_page=0,\n",
    ")['total_results']\n",
    "print(f'Total observations: {total_observations}')\n",
    "\n",
    "total_taxa = inat.get_observation_species_counts(\n",
    "    place_id=list(PLACES.keys()),\n",
    "    verifiable=True,\n",
    "    per_page=0,\n",
    ")['total_results']\n",
    "print(f'Total taxa observed: {total_taxa}')\n",
    "\n",
    "total_identifiers = inat.get_observation_identifiers(place_id=list(PLACES.keys()), per_page=0)['total_results']\n",
    "print(f'Total identifiers: {total_identifiers}')\n",
    "\n",
    "total_observers = inat.get_observation_observers(place_id=list(PLACES.keys()), per_page=0)['total_results']\n",
    "print(f'Total observers: {total_observers}')"
   ]
  },
  {
   "cell_type": "code",
   "execution_count": null,
   "id": "71664ab2-c763-4052-8164-360a66b7197b",
   "metadata": {
    "tags": []
   },
   "outputs": [],
   "source": [
    "## helper functions from pyinaturalist example\n",
    "\n",
    "THROTTLING_DELAY = 1.0  # Time to wait in between subsequent requests\n",
    "TAXON_IMAGE_URL = 'https://raw.githubusercontent.com/inaturalist/inaturalist/main/app/assets/images/iconic_taxa/{taxon}-75px.png'\n",
    "iconic_taxa = list(inat.ICONIC_TAXA.values())\n",
    "iconic_taxa.remove('Unknown')\n",
    "\n",
    "# Run one search for each iconic taxon\n",
    "def get_iconic_taxa_counts(function):\n",
    "    iconic_taxa_counts = {}\n",
    "    for taxon_name in iconic_taxa:\n",
    "        total_taxon_observations = function(\n",
    "            place_id=list(PLACES.keys()),\n",
    "            iconic_taxa=taxon_name,\n",
    "            verifiable=True,\n",
    "            per_page=0,\n",
    "        )['total_results']\n",
    "\n",
    "        iconic_taxa_counts[taxon_name] = total_taxon_observations\n",
    "        print(f'Total results for {taxon_name}: {total_taxon_observations}')\n",
    "        if taxon_name != iconic_taxa[-1]:\n",
    "            sleep(THROTTLING_DELAY)\n",
    "    return iconic_taxa_counts\n",
    "\n",
    "def get_iconic_icon(taxon_name):\n",
    "    return TAXON_IMAGE_URL.format(taxon=taxon_name.lower())"
   ]
  },
  {
   "cell_type": "code",
   "execution_count": null,
   "id": "1780f8df-3db0-4ee7-8c21-2d0d438c0677",
   "metadata": {
    "tags": []
   },
   "outputs": [],
   "source": [
    "total_observations_by_iconic_taxon = get_iconic_taxa_counts(inat.get_observations)\n",
    "\n",
    "# Create a chart, sorted by number of observations, using the appropriate iNaturalist icons\n",
    "observations_df = pd.DataFrame(\n",
    "    [\n",
    "        {'iconic taxon': k, 'observations': v, 'img': get_iconic_icon(k)}\n",
    "        for k, v in total_observations_by_iconic_taxon.items()\n",
    "    ]\n",
    ")\n",
    "\n",
    "# ## display with altair\n",
    "# alt.Chart(\n",
    "#     observations_df,\n",
    "#     title=f'Verifiable observations in {PLACE_NAME} by iconic taxon',\n",
    "#     width=750,\n",
    "#     height=500,\n",
    "# ).mark_image().encode(x=alt.X('iconic taxon:N', sort='-y'), y='observations:Q', url='img')\n",
    "\n",
    "observations_df.sort_values('observations', ascending=False)"
   ]
  },
  {
   "cell_type": "code",
   "execution_count": null,
   "id": "50e206c3-d8af-40e8-ac6a-22ae08e024a4",
   "metadata": {
    "tags": []
   },
   "outputs": [],
   "source": [
    "observations_by_year = inat.get_observation_histogram(\n",
    "    place_id=list(PLACES.keys()),\n",
    "    interval='year',\n",
    "    d1='2008-01-01',\n",
    "    d2=dt.date.today(),\n",
    "    verifiable=True,\n",
    ")\n",
    "observations_by_year = pd.DataFrame(\n",
    "    [{'date': k, 'observations': v} for k, v in observations_by_year.items()]\n",
    ")\n",
    "observations_by_year.set_index('date').plot();"
   ]
  },
  {
   "cell_type": "code",
   "execution_count": null,
   "id": "da5aa7c9-361c-420e-a3c0-da6a364b8032",
   "metadata": {
    "tags": []
   },
   "outputs": [],
   "source": [
    "observations_by_month = inat.get_observation_histogram(\n",
    "    place_id=list(PLACES.keys()),\n",
    "    interval='month',\n",
    "    d1='2016-01-02',\n",
    "    d2=dt.date.today(),\n",
    "    verifiable=True,\n",
    ")\n",
    "observations_by_month = pd.DataFrame(\n",
    "    [{'metric': 'Observations', 'date': k, 'count': v} for k, v in observations_by_month.items()]\n",
    ")\n",
    "observations_by_month.set_index('date').plot();"
   ]
  },
  {
   "cell_type": "code",
   "execution_count": null,
   "id": "adc81e28-2e39-4d29-9bdb-27edf726c8bf",
   "metadata": {
    "tags": []
   },
   "outputs": [],
   "source": [
    "monthly_observations = observations_by_month.groupby(observations_by_month['date'].dt.month)['count'].sum().to_frame()\n",
    "monthly_observations['metric'] = 'Observations'\n",
    "monthly_observations['count'].plot()"
   ]
  },
  {
   "cell_type": "code",
   "execution_count": null,
   "id": "e7ee68c4-b8f6-47ff-96a4-573927c3f728",
   "metadata": {
    "tags": []
   },
   "outputs": [],
   "source": [
    "## helper functions from pyinaturalist example\n",
    "def count_date_range_results(function, start_date, end_date):\n",
    "    \"\"\"Get the count of results for the given date range and search function\"\"\"\n",
    "    # Running this search with per_page=0 will (quickly) return only a count of results, not complete results\n",
    "    response = function(\n",
    "        place_id=list(PLACES.keys()),\n",
    "        d1=start_date,\n",
    "        d2=end_date,\n",
    "        verifiable=True,\n",
    "        per_page=0,\n",
    "    )\n",
    "    print(f'Total results for {start_date.strftime(\"%b\")}: {response[\"total_results\"]}')\n",
    "    return response['total_results']\n",
    "\n",
    "\n",
    "def get_monthly_counts(function, label):\n",
    "    \"\"\"Get the count of results per month for the given search function\"\"\"\n",
    "    month_ranges = inat.get_interval_ranges(dt.datetime(2016, 1, 1), dt.datetime.today(), 'month')\n",
    "    counts_by_month = {\n",
    "        start_date: count_date_range_results(function, start_date, end_date)\n",
    "        for (start_date, end_date) in month_ranges\n",
    "    }\n",
    "    return pd.DataFrame(\n",
    "        [{'metric': label, 'date': k, 'count': v} for k, v in counts_by_month.items()]\n",
    "    )"
   ]
  },
  {
   "cell_type": "markdown",
   "id": "b99f7d3c-7921-4699-b776-da61ce83cdb2",
   "metadata": {
    "tags": []
   },
   "source": [
    "### this part didn't quite work..."
   ]
  },
  {
   "cell_type": "code",
   "execution_count": null,
   "id": "22bb6fc8-4615-4d6e-9d43-4044428fb54d",
   "metadata": {
    "tags": []
   },
   "outputs": [],
   "source": [
    "taxa_by_month = get_monthly_counts(inat.get_observation_species_counts, 'Taxa')\n",
    "observers_by_month = get_monthly_counts(inat.get_observation_observers, 'Observers')\n",
    "identifiers_by_month = get_monthly_counts(inat.get_observation_identifiers, 'Identifiers')"
   ]
  },
  {
   "cell_type": "code",
   "execution_count": null,
   "id": "76fb50fb-9f93-4fb6-a870-de4f95d901df",
   "metadata": {
    "tags": []
   },
   "outputs": [],
   "source": [
    "# taxa_by_month\n",
    "combined_results = pd.concat([taxa_by_month, observations_by_month, observers_by_month, identifiers_by_month]).pivot(index='date', columns='metric', values='count')\n",
    "combined_results.plot()"
   ]
  },
  {
   "cell_type": "markdown",
   "id": "e04ae0f6-89a7-44a1-9078-b008447dfe1e",
   "metadata": {},
   "source": [
    "### back on track after simplifying the scope..."
   ]
  },
  {
   "cell_type": "code",
   "execution_count": null,
   "id": "58df8764-5681-4838-9ea6-45584cb10afb",
   "metadata": {
    "tags": []
   },
   "outputs": [],
   "source": [
    "observations = []     \n",
    "taxa = []\n",
    "observers = []\n",
    "identifiers = []\n",
    "\n",
    "for month in range(1,13):\n",
    "    observations.append(inat.get_observations(place_id=list(PLACES.keys()), month=month, verifiable=True, per_page=0)['total_results'])\n",
    "    taxa.append(inat.get_observation_species_counts(place_id=list(PLACES.keys()), month=month, verifiable=True, per_page=0)['total_results'])\n",
    "    observers.append(inat.get_observation_observers(place_id=list(PLACES.keys()), month=month, verifiable=True, per_page=0)['total_results'])\n",
    "    identifiers.append(inat.get_observation_identifiers(place_id=list(PLACES.keys()), month=month, verifiable=True, per_page=0)['total_results'])\n",
    "    \n",
    "counts = pd.DataFrame({'observations':observations, 'taxa':taxa, 'observers':observers, 'identifiers':identifiers})\n",
    "counts.plot()\n",
    "\n",
    "### maybe want to separately count observers vs species IDs? two ways of removing bias."
   ]
  },
  {
   "cell_type": "code",
   "execution_count": null,
   "id": "0f858f90-0e3c-4150-8853-6cd2e4a925dc",
   "metadata": {},
   "outputs": [],
   "source": [
    "## Question: What if I wanted to contrast observation rate versus identification rate? I'd want to index that on the time of identification not the time of observation. "
   ]
  },
  {
   "cell_type": "markdown",
   "id": "40dc7979-97bd-48be-8d62-38a6db3b47e0",
   "metadata": {
    "editable": true,
    "slideshow": {
     "slide_type": ""
    },
    "tags": []
   },
   "source": [
    "# convenience: my recent observations, formatted for photo names"
   ]
  },
  {
   "cell_type": "code",
   "execution_count": null,
   "id": "a4046df0-8828-4973-8424-46f2d9c03af6",
   "metadata": {
    "tags": []
   },
   "outputs": [],
   "source": [
    "## missing captive/cultivated??\n",
    "\n",
    "# helpers.get_mine(uname='schizoform', lookback_to=dt.datetime(2024,1,29))\n",
    "helpers.get_mine(uname='schizoform', \n",
    "                 STRT=dt.datetime(2025,8,4,0,0,0),\n",
    "                 #FNSH=dt.datetime(2024,8,12,0,0,0),\n",
    "                )\n",
    "\n",
    "## lookback_to -> lookback_at \n"
   ]
  },
  {
   "cell_type": "markdown",
   "id": "6517d665-eeb4-4f67-a1da-69d9c99c50e7",
   "metadata": {
    "tags": []
   },
   "source": [
    "# bloomers\n",
    "The goal here is to see what plants will be blooming when in my local region. But along the way..."
   ]
  },
  {
   "cell_type": "markdown",
   "id": "4c62bb78-adde-42db-a5ed-5b920ec66e85",
   "metadata": {
    "jp-MarkdownHeadingCollapsed": true,
    "tags": []
   },
   "source": [
    "### Coming soon!\n",
    "\n",
    "what plants might be blooming nest? seeding next? what mushrooms might I see? what (esp. migratory) birds? when are mammals active? \n",
    "\n",
    "* DONE alternate entrypoint of specifying lat/long/dist instead of places\n",
    "* try to narrow time frame to consistently 21-day period?\n",
    "* normalizations for sort order:\n",
    "   1. count of all observations at time/place\n",
    "   2. count of all observations in time and at place separately\n",
    "   3. count of all observations at time/place by taxa\n",
    "   4. count of all observations in time and at place separately by taxa\n",
    "   5. (similar but by phenology?)\n",
    "   6. (separate totals for 'research grade' and 'informal' counts)\n",
    "* photographs should match requested phenotype where possible\n",
    "* add support for caterpillars/butterflies (and similar for benthic macroinverts?)\n",
    "* split animals by clade and/or generalize interface?"
   ]
  },
  {
   "cell_type": "code",
   "execution_count": null,
   "id": "ca904c4f-b3dd-4cc5-9cc1-d4bfcbe61919",
   "metadata": {
    "scrolled": true
   },
   "outputs": [],
   "source": [
    "PLACES = {1491:'Powhatan County',\n",
    "          2920:'Goochland County',\n",
    "          3032:'Louisa County'}\n",
    "\n",
    "total_observations = inat.get_observations(\n",
    "    place_id=list(PLACES.keys()),\n",
    "    month=list(set( [(dt.date.today()+dt.timedelta(days=-7)).month, (dt.date.today()+dt.timedelta(days=7)).month] )),\n",
    "    taxon_name='plants',\n",
    "    verifiable=True,\n",
    "    per_page=0,\n",
    ")['total_results']\n",
    "print(f'Total plant observations: {total_observations}')\n",
    "\n",
    "inat.get_observations(\n",
    "    place_id=list(PLACES.keys()),\n",
    "    month=list(set( [(dt.date.today()+dt.timedelta(days=-7)).month, (dt.date.today()+dt.timedelta(days=7)).month] )),\n",
    "    taxon_name='plants',\n",
    "    verifiable=True,\n",
    "    per_page=0,\n",
    ")"
   ]
  },
  {
   "cell_type": "code",
   "execution_count": null,
   "id": "1ed993b1-e511-4cb9-ae62-584acf736dd3",
   "metadata": {},
   "outputs": [],
   "source": []
  },
  {
   "cell_type": "code",
   "execution_count": null,
   "id": "932da1a6-8775-4fb6-b2b1-136b991f7254",
   "metadata": {},
   "outputs": [],
   "source": [
    "# target_loc = (37.679849,-77.442868,10) # upper_chick\n",
    "target_loc = (47.9,-91.6,250) # BWCA Farm Lake\n",
    "limit = 7\n",
    "norm = 'overall' # 'time'"
   ]
  },
  {
   "cell_type": "code",
   "execution_count": null,
   "id": "46f894f1-d60f-4701-bc38-12a20e72c34c",
   "metadata": {},
   "outputs": [],
   "source": [
    "# helpers.coming_soon('flowers', places=list(PLACES.keys()))\n",
    "res = helpers.coming_soon('flowers', loc=target_loc, norm=norm, limit=limit)"
   ]
  },
  {
   "cell_type": "code",
   "execution_count": null,
   "id": "5db8383e-e5f7-4f0f-8f62-f8bcad91443a",
   "metadata": {},
   "outputs": [],
   "source": [
    "res = helpers.coming_soon('fruits', loc=target_loc, norm=norm, limit=limit)"
   ]
  },
  {
   "cell_type": "code",
   "execution_count": null,
   "id": "c578240e-fe68-4cec-9c5e-62d050ec6622",
   "metadata": {
    "tags": []
   },
   "outputs": [],
   "source": [
    "res = helpers.coming_soon('mushrooms', loc=target_loc, norm=norm, limit=limit)"
   ]
  },
  {
   "cell_type": "code",
   "execution_count": null,
   "id": "fae7f5e3-5687-4a34-8516-84c78424e769",
   "metadata": {},
   "outputs": [],
   "source": [
    "res = helpers.coming_soon('birds', loc=target_loc, norm=norm, limit=limit)"
   ]
  },
  {
   "cell_type": "code",
   "execution_count": null,
   "id": "6a20d1c8-b269-4124-a67e-f1090ab671ec",
   "metadata": {},
   "outputs": [],
   "source": [
    "res = helpers.coming_soon('herps', loc=target_loc, norm=norm, limit=limit)"
   ]
  },
  {
   "cell_type": "code",
   "execution_count": null,
   "id": "635c8857-cc8c-4889-bca6-eadee890b185",
   "metadata": {},
   "outputs": [],
   "source": [
    "res = helpers.coming_soon('mammals', loc=target_loc, norm=norm, limit=limit)"
   ]
  },
  {
   "cell_type": "code",
   "execution_count": null,
   "id": "881a87fa-6be5-4396-8b29-6885ebe81ed2",
   "metadata": {},
   "outputs": [],
   "source": [
    "### NOTE: should exclude amphibia\n",
    "res = helpers.coming_soon('wugs', loc=target_loc, norm=norm, limit=limit)"
   ]
  },
  {
   "cell_type": "code",
   "execution_count": null,
   "id": "de659674-68f8-40c9-b22b-302215bbd3c5",
   "metadata": {},
   "outputs": [],
   "source": [
    "## filter images to show desired life stage\n",
    "## note: graceful handling of null return values\n",
    "\n",
    "res = helpers.coming_soon('caterpillars', loc=target_loc, norm='overall', limit=3)"
   ]
  },
  {
   "cell_type": "code",
   "execution_count": null,
   "id": "769ded14-7c20-455a-93de-0c18c2a5b1b9",
   "metadata": {},
   "outputs": [],
   "source": [
    "## filter images to show desired life stage\n",
    "\n",
    "res = helpers.coming_soon('butterflies', loc=target_loc, norm='overall', limit=3)"
   ]
  },
  {
   "cell_type": "markdown",
   "id": "9256fd4c-c455-402a-b335-e1992fc8d1d3",
   "metadata": {
    "jp-MarkdownHeadingCollapsed": true
   },
   "source": [
    "# Experiments w/ ChatGPT 5"
   ]
  },
  {
   "cell_type": "markdown",
   "id": "3613b4dc-fbd2-4add-a385-ddfa51b4f4ec",
   "metadata": {
    "tags": []
   },
   "source": [
    "## confidence_manimal\n",
    "\n",
    "general idea is to look at the rate at which I ID vs withdraw ID, slash the rate at which I nevermind-withdrawn ID vs the community taxon. how full of shit am I?"
   ]
  },
  {
   "cell_type": "code",
   "execution_count": 5,
   "id": "13b19dbf-54d7-4602-9b81-16b73f944f59",
   "metadata": {},
   "outputs": [],
   "source": [
    "#!/usr/bin/env python3\n",
    "# iNat ID outcomes for a user on a given taxon\n",
    "# Requires: Python 3.9+, requests, pandas (optional but nice)\n",
    "\n",
    "def check_accuracy(target_user, taxon_query):\n",
    "\n",
    "    import requests, time, math, pandas as pd\n",
    "    from collections import Counter, defaultdict\n",
    "    \n",
    "    BASE = \"https://api.inaturalist.org/v1\"\n",
    "    \n",
    "    TARGET_USER  = target_user #\"schizoform\"\n",
    "    TAXON_QUERY  = taxon_query #\"partridge pea\"   # you can also try \"Chamaecrista fasciculata\"\n",
    "    PER_PAGE     = 200               # API max is 200\n",
    "    SLEEP        = 0.2               # be gentle to the API\n",
    "    \n",
    "    def get_taxon_id(q: str) -> int:\n",
    "        r = requests.get(f\"{BASE}/taxa\", params={\"q\": q, \"per_page\": 1})\n",
    "        r.raise_for_status()\n",
    "        results = r.json().get(\"results\", [])\n",
    "        if not results:\n",
    "            raise ValueError(f\"No taxon found for query: {q}\")\n",
    "        return results[0][\"id\"]  # take the top match\n",
    "    \n",
    "    def paged(endpoint, params):\n",
    "        page = 1\n",
    "        while True:\n",
    "            p = dict(params)\n",
    "            p[\"page\"] = page\n",
    "            p[\"per_page\"] = PER_PAGE\n",
    "            r = requests.get(f\"{BASE}/{endpoint}\", params=p)\n",
    "            r.raise_for_status()\n",
    "            j = r.json()\n",
    "            results = j.get(\"results\", [])\n",
    "            if not results:\n",
    "                break\n",
    "            for item in results:\n",
    "                return_obj = item\n",
    "                yield return_obj\n",
    "            total_results = j.get(\"total_results\", 0)\n",
    "            pages = math.ceil(total_results / PER_PAGE) if total_results else page\n",
    "            page += 1\n",
    "            if total_results and page > pages:\n",
    "                break\n",
    "            time.sleep(SLEEP)\n",
    "    \n",
    "    def fetch_identifications(user, taxon_id):\n",
    "        # Only IDs made BY this user, for observations at/under this taxon.\n",
    "        # Note: includes withdrawn IDs; includes category (leading/improving/supporting/maverick)\n",
    "        ids = []\n",
    "        for it in paged(\n",
    "            \"identifications\",\n",
    "            {\n",
    "                \"user_id\": user,\n",
    "                \"taxon_id\": taxon_id,\n",
    "                \"current\": \"any\",        # include withdrawn\n",
    "                \"order_by\": \"created_at\",\n",
    "                \"order\": \"asc\",\n",
    "                \"per_page\": PER_PAGE,\n",
    "            },\n",
    "        ):\n",
    "            ids.append(it)\n",
    "        return ids\n",
    "    \n",
    "    def chunked(iterable, size):\n",
    "        chunk = []\n",
    "        for x in iterable:\n",
    "            chunk.append(x)\n",
    "            if len(chunk) == size:\n",
    "                yield chunk\n",
    "                chunk = []\n",
    "        if chunk:\n",
    "            yield chunk\n",
    "    \n",
    "    def fetch_observations(obs_ids):\n",
    "        obs = {}\n",
    "        for chunk in chunked(list(obs_ids), 200):\n",
    "            r = requests.get(f\"{BASE}/observations\", params={\"id\": \",\".join(map(str, chunk)), \"per_page\": 200})\n",
    "            r.raise_for_status()\n",
    "            for o in r.json().get(\"results\", []):\n",
    "                obs[o[\"id\"]] = o\n",
    "            time.sleep(SLEEP)\n",
    "        return obs\n",
    "    \n",
    "    def taxon_lineage_ids(taxon):\n",
    "        \"\"\"Return set of ancestor ids + self id if present (from iNat taxon object).\"\"\"\n",
    "        if not taxon:\n",
    "            return set()\n",
    "        ids = set(taxon.get(\"ancestor_ids\") or [])\n",
    "        self_id = taxon.get(\"id\")\n",
    "        if self_id:\n",
    "            ids.add(self_id)\n",
    "        return ids\n",
    "    \n",
    "    def classify_identification(id_obj, obs_obj):\n",
    "        \"\"\"\n",
    "        Returns one of: 'withdrawn', 'validated', 'overruled', plus some detail.\n",
    "        Heuristics:\n",
    "        - withdrawn: id.current == False\n",
    "        - validated: id.category in {'leading','improving','supporting'}  OR\n",
    "                     id.taxon is the same as (or an ancestor/descendant of) the community taxon\n",
    "        - overruled: id.category == 'maverick'  OR\n",
    "                     id.taxon not in lineage of community taxon (and not withdrawn)\n",
    "        \"\"\"\n",
    "        # withdrawn?\n",
    "        if not id_obj.get(\"current\", True):\n",
    "            return \"withdrawn\", {\"reason\": \"not current\"}\n",
    "    \n",
    "        cat = (id_obj.get(\"category\") or \"\").lower()\n",
    "        if cat in {\"leading\", \"improving\", \"supporting\"}:\n",
    "            return \"validated\", {\"reason\": f\"category={cat}\"}\n",
    "    \n",
    "        # If category missing/ambiguous, compare to community taxon\n",
    "        id_taxon = id_obj.get(\"taxon\") or {}\n",
    "        obs_comm = (obs_obj or {}).get(\"community_taxon\") or {}\n",
    "    \n",
    "        id_lineage = taxon_lineage_ids(id_taxon)\n",
    "        comm_lineage = taxon_lineage_ids(obs_comm)\n",
    "    \n",
    "        if id_lineage & comm_lineage:\n",
    "            return \"validated\", {\"reason\": \"lineage overlap with community taxon\"}\n",
    "    \n",
    "        if cat == \"maverick\":\n",
    "            return \"overruled\", {\"reason\": \"category=maverick\"}\n",
    "    \n",
    "        # fall back: if there is a community taxon and no overlap, call it overruled\n",
    "        if comm_lineage:\n",
    "            return \"overruled\", {\"reason\": \"no lineage overlap with community taxon\"}\n",
    "    \n",
    "        # If no community taxon yet, treat as 'pending/unclear' (counts separate)\n",
    "        return \"unclear\", {\"reason\": \"no community taxon\"}\n",
    "    \n",
    "    def main():\n",
    "        taxon_id = get_taxon_id(TAXON_QUERY)\n",
    "        print(f\"Taxon for '{TAXON_QUERY}': {taxon_id}\")\n",
    "    \n",
    "        id_list = fetch_identifications(TARGET_USER, taxon_id)\n",
    "        if not id_list:\n",
    "            print(\"No identifications found.\")\n",
    "            return\n",
    "    \n",
    "        obs_ids = {i[\"observation\"][\"id\"] for i in id_list if i.get(\"observation\")}\n",
    "        obs_map = fetch_observations(obs_ids)\n",
    "    \n",
    "        rows = []\n",
    "        for i in id_list:\n",
    "            obs_id = (i.get(\"observation\") or {}).get(\"id\")\n",
    "            classification, meta = classify_identification(i, obs_map.get(obs_id))\n",
    "            rows.append({\n",
    "                \"identification_id\": i[\"id\"],\n",
    "                \"obs_id\": obs_id,\n",
    "                \"created_at\": i.get(\"created_at\"),\n",
    "                \"current\": i.get(\"current\"),\n",
    "                \"category\": i.get(\"category\"),\n",
    "                \"maverick\": i.get(\"maverick\"),\n",
    "                \"id_taxon_id\": (i.get(\"taxon\") or {}).get(\"id\"),\n",
    "                \"id_taxon_name\": (i.get(\"taxon\") or {}).get(\"name\"),\n",
    "                \"community_taxon_id\": ((obs_map.get(obs_id) or {}).get(\"community_taxon\") or {}).get(\"id\"),\n",
    "                \"community_taxon_name\": ((obs_map.get(obs_id) or {}).get(\"community_taxon\") or {}).get(\"name\"),\n",
    "                \"classification\": classification,\n",
    "                \"detail\": meta.get(\"reason\"),\n",
    "            })\n",
    "    \n",
    "        df = pd.DataFrame(rows).sort_values(\"created_at\")\n",
    "        counts = df[\"classification\"].value_counts().to_dict()\n",
    "        total = len(df)\n",
    "    \n",
    "        print(\"\\n=== Summary for user @{} on taxon '{}': ===\".format(TARGET_USER, TAXON_QUERY))\n",
    "        for k in [\"validated\", \"overruled\", \"withdrawn\", \"unclear\"]:\n",
    "            n = counts.get(k, 0)\n",
    "            pct = (n/total*100) if total else 0\n",
    "            print(f\"{k:10s}: {n:4d}  ({pct:5.1f}%)\")\n",
    "        print(f\"total IDs : {total}\")\n",
    "    \n",
    "        # out_csv = f\"inaturalist_{TARGET_USER}_{TAXON_QUERY.replace(' ','_')}_id_outcomes.csv\"\n",
    "        # df.to_csv(out_csv, index=False)\n",
    "        # print(f\"\\nWrote detailed rows to: {out_csv}\")\n",
    "    \n",
    "    if __name__ == \"__main__\":\n",
    "        main()"
   ]
  },
  {
   "cell_type": "code",
   "execution_count": 3,
   "id": "4c194e62-3679-4a2f-b8f1-3db770746cc7",
   "metadata": {},
   "outputs": [
    {
     "name": "stdout",
     "output_type": "stream",
     "text": [
      "Taxon for 'partridge pea': 53262\n",
      "\n",
      "=== Summary for user @schizoform on taxon 'partridge pea': ===\n",
      "validated :   59  ( 90.8%)\n",
      "overruled :    0  (  0.0%)\n",
      "withdrawn :    6  (  9.2%)\n",
      "unclear   :    0  (  0.0%)\n",
      "total IDs : 65\n",
      "\n",
      "Wrote detailed rows to: inaturalist_schizoform_partridge_pea_id_outcomes.csv\n"
     ]
    }
   ],
   "source": [
    "check_accuracy(taxon_user='schizoform', target_taxon='Chamaecrista')"
   ]
  },
  {
   "cell_type": "code",
   "execution_count": 7,
   "id": "50bd929e-4389-4a6f-a336-0287884899f2",
   "metadata": {},
   "outputs": [
    {
     "name": "stdout",
     "output_type": "stream",
     "text": [
      "Taxon for 'Chamaecrista': 53262\n",
      "\n",
      "=== Summary for user @schizoform on taxon 'Chamaecrista': ===\n",
      "validated :   59  ( 90.8%)\n",
      "overruled :    0  (  0.0%)\n",
      "withdrawn :    6  (  9.2%)\n",
      "unclear   :    0  (  0.0%)\n",
      "total IDs : 65\n"
     ]
    }
   ],
   "source": [
    "check_accuracy(target_user='schizoform', taxon_query='Chamaecrista') ### this one should be different bc should include sensitive pea"
   ]
  },
  {
   "cell_type": "code",
   "execution_count": 8,
   "id": "dcbd3e21-8d19-483a-b35b-2721861cdc37",
   "metadata": {},
   "outputs": [
    {
     "name": "stdout",
     "output_type": "stream",
     "text": [
      "Taxon for 'american sweetgum': 49658\n",
      "\n",
      "=== Summary for user @schizoform on taxon 'american sweetgum': ===\n",
      "validated :  189  ( 98.4%)\n",
      "overruled :    0  (  0.0%)\n",
      "withdrawn :    3  (  1.6%)\n",
      "unclear   :    0  (  0.0%)\n",
      "total IDs : 192\n"
     ]
    }
   ],
   "source": [
    "check_accuracy(target_user='schizoform', taxon_query='american sweetgum')"
   ]
  },
  {
   "cell_type": "code",
   "execution_count": 9,
   "id": "cd671bbb-3f00-49d8-8382-f620bbe79d0b",
   "metadata": {},
   "outputs": [
    {
     "name": "stdout",
     "output_type": "stream",
     "text": [
      "Taxon for 'russula': 48341\n",
      "\n",
      "=== Summary for user @schizoform on taxon 'russula': ===\n",
      "validated :  310  ( 88.1%)\n",
      "overruled :    0  (  0.0%)\n",
      "withdrawn :   42  ( 11.9%)\n",
      "unclear   :    0  (  0.0%)\n",
      "total IDs : 352\n"
     ]
    }
   ],
   "source": [
    "check_accuracy(target_user='schizoform', taxon_query='russula')"
   ]
  },
  {
   "cell_type": "code",
   "execution_count": 10,
   "id": "24c57328-2676-473d-9ee9-6b520220f0ed",
   "metadata": {},
   "outputs": [
    {
     "name": "stdout",
     "output_type": "stream",
     "text": [
      "Taxon for 'mammalia': 40151\n",
      "\n",
      "=== Summary for user @schizoform on taxon 'mammalia': ===\n",
      "validated :  888  ( 95.1%)\n",
      "overruled :    0  (  0.0%)\n",
      "withdrawn :   44  (  4.7%)\n",
      "unclear   :    2  (  0.2%)\n",
      "total IDs : 934\n"
     ]
    }
   ],
   "source": [
    "check_accuracy(target_user='schizoform', taxon_query='mammalia') \n",
    "### this taxa id seems oddly high, even if the number of observations seems plausible... \n",
    "### though i wonder if the unclear percent is too low?"
   ]
  },
  {
   "cell_type": "code",
   "execution_count": 11,
   "id": "ebd1dcb3-f53f-459b-ae12-c6374ebc6c20",
   "metadata": {},
   "outputs": [
    {
     "name": "stdout",
     "output_type": "stream",
     "text": [
      "Taxon for 'aves': 3\n",
      "\n",
      "=== Summary for user @schizoform on taxon 'aves': ===\n",
      "validated : 2509  ( 91.7%)\n",
      "overruled :    1  (  0.0%)\n",
      "withdrawn :  223  (  8.2%)\n",
      "unclear   :    3  (  0.1%)\n",
      "total IDs : 2736\n"
     ]
    }
   ],
   "source": [
    "check_accuracy(target_user='schizoform', taxon_query='aves')"
   ]
  },
  {
   "cell_type": "code",
   "execution_count": null,
   "id": "f1944502-5866-4cb8-932c-98d272f7cec6",
   "metadata": {},
   "outputs": [],
   "source": [
    "## get a list of all the clades I provided an ID\n",
    "## idea: give it a user name and an ID -- what percent were subsequently confirmed accurate? confirmed inaccurate?"
   ]
  },
  {
   "cell_type": "code",
   "execution_count": null,
   "id": "b792db35-15ac-4191-9760-de3d159c8210",
   "metadata": {},
   "outputs": [],
   "source": [
    "# ## step one: get all a usr's observations (e.g. mine)\n",
    "\n",
    "\n",
    "# def get_species_preview(api_key: str,\n",
    "#                         user: Tuple[float, float], \n",
    "#                        ) -> pd.DataFrame:\n",
    "#     \"\"\"\n",
    "#     Fetches observations of flowering plants from the iNaturalist API within a specified distance \n",
    "#     of a given location over the next two weeks for the past 10 years.\n",
    "\n",
    "#     Args:\n",
    "#         location (Tuple[float, float]): The latitude and longitude of the location of interest.\n",
    "#         distance (Union[int, float]): The radius around the location of interest, in kilometers.\n",
    "#         api_key (str): The iNaturalist API key.\n",
    "\n",
    "#     Returns:\n",
    "#         pd.DataFrame: A DataFrame containing the observations of flowering plants.\n",
    "\n",
    "#     Note:\n",
    "#         The taxon_id parameter is set to 47126, which is the ID for the kingdom Plantae. This will \n",
    "#         return observations of all plants. If you're interested in a specific group of plants, \n",
    "#         you'll need to find the appropriate taxon ID.\n",
    "\n",
    "#         The term_id parameter is set to 12, which is the ID for \"flowering\". This will return \n",
    "#         observations where the plant was reported to be flowering.\n",
    "#     \"\"\"\n",
    "#     # Define the base URL for the iNaturalist API\n",
    "#     base_url = \"https://api.inaturalist.org/v1/observations\"\n",
    "\n",
    "#     # Fetch observations\n",
    "    \n",
    "#     # Define the parameters for the API request\n",
    "#     params: Dict[str, Union[str, int, float]] = {\n",
    "        \n",
    "#         \"order\": \"desc\",\n",
    "#         \"order_by\": \"observed_on\",\n",
    "#         #\"term_id\": 13,  # Term ID for flowering\n",
    "#     }\n",
    "\n",
    "#     # Make the API request\n",
    "#     response = requests.get(base_url, params=params, headers={\"Authorization\": \"Bearer \" + api_key})\n",
    "\n",
    "#     # Convert the response to a pandas DataFrame and append it to the results DataFrame\n",
    "#     df.append(pd.json_normalize(response.json()[\"results\"]))\n",
    "\n"
   ]
  }
 ],
 "metadata": {
  "kernelspec": {
   "display_name": "Python 3 (ipykernel)",
   "language": "python",
   "name": "python3"
  },
  "language_info": {
   "codemirror_mode": {
    "name": "ipython",
    "version": 3
   },
   "file_extension": ".py",
   "mimetype": "text/x-python",
   "name": "python",
   "nbconvert_exporter": "python",
   "pygments_lexer": "ipython3",
   "version": "3.12.8"
  }
 },
 "nbformat": 4,
 "nbformat_minor": 5
}
